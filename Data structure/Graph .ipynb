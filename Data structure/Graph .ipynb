{
 "cells": [
  {
   "cell_type": "markdown",
   "id": "d345aab6",
   "metadata": {},
   "source": [
    "**implementation of an undirected graph using Adjacency Lists**\n"
   ]
  },
  {
   "cell_type": "code",
   "execution_count": 5,
   "id": "cc84e753",
   "metadata": {
    "ExecuteTime": {
     "end_time": "2023-08-18T22:18:08.978629Z",
     "start_time": "2023-08-18T22:18:08.965912Z"
    }
   },
   "outputs": [],
   "source": [
    "# \n",
    "class Vertex:\n",
    "    def __init__(self, n):\n",
    "        self.name = n\n",
    "        self.neighbors = list()\n",
    "\n",
    "    def add_neighbor(self, v, weight):\n",
    "        if v not in self.neighbors:\n",
    "            self.neighbors.append((v, weight))\n",
    "            self.neighbors.sort()\n",
    "\n",
    "class Graph:\n",
    "    vertices = {}\n",
    "\n",
    "    def add_vertex(self, vertex):\n",
    "        if isinstance(vertex, Vertex) and vertex.name not in self.vertices:\n",
    "            self.vertices[vertex.name] = vertex\n",
    "            return True\n",
    "        else:\n",
    "            return False\n",
    "        \n",
    "    def add_edge(self, u, v, weight=1):\n",
    "        if u in self.vertices and v in self.vertices:\n",
    "            # my YouTube video shows a silly for loop here, but this is a much faster way to do it\n",
    "            self.vertices[u].add_neighbor(v, weight)\n",
    "            self.vertices[v].add_neighbor(u, weight)\n",
    "            return True\n",
    "        else:\n",
    "            return False\n",
    "\n",
    "    def print_graph(self):\n",
    "        for key in sorted(list(self.vertices.keys())):\n",
    "            print(key + str(self.vertices[key].neighbors))\n"
   ]
  },
  {
   "cell_type": "code",
   "execution_count": 6,
   "id": "e6f702b9",
   "metadata": {
    "ExecuteTime": {
     "end_time": "2023-08-18T22:18:12.512905Z",
     "start_time": "2023-08-18T22:18:12.507072Z"
    }
   },
   "outputs": [
    {
     "name": "stdout",
     "output_type": "stream",
     "text": [
      "A[('B', 1), ('E', 1)]\n",
      "B[('A', 1), ('F', 1)]\n",
      "C[('G', 1)]\n",
      "D[('E', 1), ('H', 1)]\n",
      "E[('A', 1), ('D', 1), ('H', 1)]\n",
      "F[('B', 1), ('G', 1), ('I', 1), ('J', 1)]\n",
      "G[('C', 1), ('F', 1), ('J', 1)]\n",
      "H[('D', 1), ('E', 1), ('I', 1)]\n",
      "I[('F', 1), ('H', 1)]\n",
      "J[('F', 1), ('G', 1)]\n"
     ]
    }
   ],
   "source": [
    "\n",
    "g = Graph()\n",
    "# print(str(len(g.vertices)))\n",
    "a = Vertex('A')\n",
    "g.add_vertex(a)\n",
    "g.add_vertex(Vertex('B'))\n",
    "for i in range(ord('A'), ord('K')):\n",
    "    g.add_vertex(Vertex(chr(i)))\n",
    "\n",
    "edges = ['AB', 'AE', 'BF', 'CG', 'DE', 'DH', 'EH', 'FG', 'FI', 'FJ', 'GJ', 'HI']\n",
    "for edge in edges:\n",
    "    g.add_edge(edge[:1], edge[1:])\n",
    "\n",
    "g.print_graph()"
   ]
  },
  {
   "cell_type": "code",
   "execution_count": 8,
   "id": "7cd91f4c",
   "metadata": {
    "ExecuteTime": {
     "end_time": "2023-08-18T22:19:17.849345Z",
     "start_time": "2023-08-18T22:19:17.841071Z"
    }
   },
   "outputs": [
    {
     "data": {
      "text/plain": [
       "True"
      ]
     },
     "execution_count": 8,
     "metadata": {},
     "output_type": "execute_result"
    }
   ],
   "source": [
    "g.add_edge('A','D')"
   ]
  },
  {
   "cell_type": "code",
   "execution_count": 9,
   "id": "49d7f0d6",
   "metadata": {
    "ExecuteTime": {
     "end_time": "2023-08-18T22:20:22.174737Z",
     "start_time": "2023-08-18T22:20:22.169322Z"
    }
   },
   "outputs": [
    {
     "name": "stdout",
     "output_type": "stream",
     "text": [
      "A[('B', 1), ('D', 1), ('E', 1)]\n",
      "B[('A', 1), ('F', 1)]\n",
      "C[('G', 1)]\n",
      "D[('A', 1), ('E', 1), ('H', 1)]\n",
      "E[('A', 1), ('D', 1), ('H', 1)]\n",
      "F[('B', 1), ('G', 1), ('I', 1), ('J', 1)]\n",
      "G[('C', 1), ('F', 1), ('J', 1)]\n",
      "H[('D', 1), ('E', 1), ('I', 1)]\n",
      "I[('F', 1), ('H', 1)]\n",
      "J[('F', 1), ('G', 1)]\n"
     ]
    }
   ],
   "source": [
    "g.print_graph()"
   ]
  },
  {
   "cell_type": "markdown",
   "id": "2b00f024",
   "metadata": {
    "ExecuteTime": {
     "end_time": "2023-08-18T04:56:24.292880Z",
     "start_time": "2023-08-18T04:56:24.276852Z"
    }
   },
   "source": [
    "**implementation of an undirected graph using Adjacency Matrix, with weighted or unweighted edges**"
   ]
  },
  {
   "cell_type": "code",
   "execution_count": 6,
   "id": "8e57cc3b",
   "metadata": {
    "ExecuteTime": {
     "end_time": "2023-08-18T04:55:10.772724Z",
     "start_time": "2023-08-18T04:55:10.751030Z"
    }
   },
   "outputs": [],
   "source": [
    "\n",
    "class Vertex:\n",
    "    def __init__(self, n):\n",
    "        self.name = n\n",
    "\n",
    "class Graph:\n",
    "    vertices = {}\n",
    "    edges = []\n",
    "    edge_indices = {}\n",
    "\n",
    "    def add_vertex(self, vertex):\n",
    "        if isinstance(vertex, Vertex) and vertex.name not in self.vertices:\n",
    "            self.vertices[vertex.name] = vertex\n",
    "            for row in self.edges:\n",
    "                row.append(0)\n",
    "            self.edges.append([0] * (len(self.edges)+1))\n",
    "            self.edge_indices[vertex.name] = len(self.edge_indices)\n",
    "            return True\n",
    "        else:\n",
    "            return False\n",
    "\n",
    "    def add_edge(self, u, v, weight=1):\n",
    "        if u in self.vertices and v in self.vertices:\n",
    "            self.edges[self.edge_indices[u]][self.edge_indices[v]] = weight\n",
    "            self.edges[self.edge_indices[v]][self.edge_indices[u]] = weight\n",
    "            return True\n",
    "        else:\n",
    "            return False\n",
    "\n",
    "    def print_graph(self):\n",
    "        for v, i in sorted(self.edge_indices.items()):\n",
    "            print(v + ' ', end='')\n",
    "            for j in range(len(self.edges)):\n",
    "                print(self.edges[i][j], end='')\n",
    "            print(' ')    \n",
    "\n"
   ]
  },
  {
   "cell_type": "code",
   "execution_count": 7,
   "id": "1463280a",
   "metadata": {
    "ExecuteTime": {
     "end_time": "2023-08-18T04:55:14.591247Z",
     "start_time": "2023-08-18T04:55:14.575233Z"
    }
   },
   "outputs": [
    {
     "name": "stdout",
     "output_type": "stream",
     "text": [
      "A 0100100000 \n",
      "B 1000010000 \n",
      "C 0000001000 \n",
      "D 0000100100 \n",
      "E 1001000100 \n",
      "F 0100001011 \n",
      "G 0010010001 \n",
      "H 0001100010 \n",
      "I 0000010100 \n",
      "J 0000011000 \n"
     ]
    }
   ],
   "source": [
    "g = Graph()\n",
    "# print(str(len(g.vertices)))\n",
    "a = Vertex('A')\n",
    "g.add_vertex(a)\n",
    "g.add_vertex(Vertex('B'))\n",
    "for i in range(ord('A'), ord('K')):\n",
    "\tg.add_vertex(Vertex(chr(i)))\n",
    "\n",
    "edges = ['AB', 'AE', 'BF', 'CG', 'DE', 'DH', 'EH', 'FG', 'FI', 'FJ', 'GJ', 'HI']\n",
    "for edge in edges:\n",
    "\tg.add_edge(edge[:1], edge[1:])\n",
    "\n",
    "g.print_graph()"
   ]
  }
 ],
 "metadata": {
  "kernelspec": {
   "display_name": "Python 3",
   "language": "python",
   "name": "python3"
  },
  "language_info": {
   "codemirror_mode": {
    "name": "ipython",
    "version": 3
   },
   "file_extension": ".py",
   "mimetype": "text/x-python",
   "name": "python",
   "nbconvert_exporter": "python",
   "pygments_lexer": "ipython3",
   "version": "3.8.8"
  }
 },
 "nbformat": 4,
 "nbformat_minor": 5
}
