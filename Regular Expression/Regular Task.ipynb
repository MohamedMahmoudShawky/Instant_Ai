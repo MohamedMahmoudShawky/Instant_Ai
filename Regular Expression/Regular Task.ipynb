{
 "cells": [
  {
   "cell_type": "code",
   "execution_count": 1,
   "id": "105b4190",
   "metadata": {
    "ExecuteTime": {
     "end_time": "2023-08-24T17:30:59.662629Z",
     "start_time": "2023-08-24T17:30:59.632500Z"
    }
   },
   "outputs": [],
   "source": [
    "filepath=\"task .txt\"\n",
    "fileconant=open(filepath, \"r\")"
   ]
  },
  {
   "cell_type": "code",
   "execution_count": 2,
   "id": "42d40e36",
   "metadata": {
    "ExecuteTime": {
     "end_time": "2023-08-24T17:30:59.678524Z",
     "start_time": "2023-08-24T17:30:59.662629Z"
    }
   },
   "outputs": [],
   "source": [
    "data=fileconant.read()"
   ]
  },
  {
   "cell_type": "code",
   "execution_count": 3,
   "id": "99060952",
   "metadata": {
    "ExecuteTime": {
     "end_time": "2023-08-24T17:30:59.694637Z",
     "start_time": "2023-08-24T17:30:59.678524Z"
    }
   },
   "outputs": [
    {
     "name": "stdout",
     "output_type": "stream",
     "text": [
      "mohamed mahmoud 01125339461 momo@gmail.com\n",
      "kariem sayed 01256478935 kemo@egy.com\n",
      "mazen mazen 01534584697 mazen@gmail.com\n",
      "ahmed ali 01042367945 ahmedali22@yahoo.com\n",
      "youseif ahmed 01114236988 jo22@egy.com\n",
      "ali ali 01254366989 ali.ali@gmail.com\n",
      "syaed essam 01245849632 sayedessam@gmali.com\n",
      "mohaned ahmed 01112435696 mohamed@yahoo.com\n",
      "khaled mohamed 01252536122 khaled@egy.edu\n",
      "\n",
      "\n"
     ]
    }
   ],
   "source": [
    "print(data)\n"
   ]
  },
  {
   "cell_type": "code",
   "execution_count": 4,
   "id": "92d74867",
   "metadata": {
    "ExecuteTime": {
     "end_time": "2023-08-24T17:30:59.710712Z",
     "start_time": "2023-08-24T17:30:59.694637Z"
    }
   },
   "outputs": [],
   "source": [
    "import re"
   ]
  },
  {
   "cell_type": "code",
   "execution_count": 5,
   "id": "b72fb7f6",
   "metadata": {
    "ExecuteTime": {
     "end_time": "2023-08-24T17:30:59.726357Z",
     "start_time": "2023-08-24T17:30:59.711723Z"
    }
   },
   "outputs": [
    {
     "name": "stdout",
     "output_type": "stream",
     "text": [
      "<re.Match object; span=(0, 1), match='m'>\n",
      "<re.Match object; span=(1, 2), match='o'>\n",
      "<re.Match object; span=(2, 3), match='h'>\n",
      "<re.Match object; span=(3, 4), match='a'>\n",
      "<re.Match object; span=(4, 5), match='m'>\n",
      "<re.Match object; span=(5, 6), match='e'>\n",
      "<re.Match object; span=(6, 7), match='d'>\n",
      "<re.Match object; span=(7, 8), match=' '>\n",
      "<re.Match object; span=(8, 9), match='m'>\n",
      "<re.Match object; span=(9, 10), match='a'>\n",
      "<re.Match object; span=(10, 11), match='h'>\n",
      "<re.Match object; span=(11, 12), match='m'>\n",
      "<re.Match object; span=(12, 13), match='o'>\n",
      "<re.Match object; span=(13, 14), match='u'>\n",
      "<re.Match object; span=(14, 15), match='d'>\n",
      "<re.Match object; span=(15, 16), match=' '>\n",
      "<re.Match object; span=(16, 17), match='0'>\n",
      "<re.Match object; span=(17, 18), match='1'>\n",
      "<re.Match object; span=(18, 19), match='1'>\n",
      "<re.Match object; span=(19, 20), match='2'>\n",
      "<re.Match object; span=(20, 21), match='5'>\n",
      "<re.Match object; span=(21, 22), match='3'>\n",
      "<re.Match object; span=(22, 23), match='3'>\n",
      "<re.Match object; span=(23, 24), match='9'>\n",
      "<re.Match object; span=(24, 25), match='4'>\n",
      "<re.Match object; span=(25, 26), match='6'>\n",
      "<re.Match object; span=(26, 27), match='1'>\n",
      "<re.Match object; span=(27, 28), match=' '>\n",
      "<re.Match object; span=(28, 29), match='m'>\n",
      "<re.Match object; span=(29, 30), match='o'>\n",
      "<re.Match object; span=(30, 31), match='m'>\n",
      "<re.Match object; span=(31, 32), match='o'>\n",
      "<re.Match object; span=(32, 33), match='@'>\n",
      "<re.Match object; span=(33, 34), match='g'>\n",
      "<re.Match object; span=(34, 35), match='m'>\n",
      "<re.Match object; span=(35, 36), match='a'>\n",
      "<re.Match object; span=(36, 37), match='i'>\n",
      "<re.Match object; span=(37, 38), match='l'>\n",
      "<re.Match object; span=(38, 39), match='.'>\n",
      "<re.Match object; span=(39, 40), match='c'>\n",
      "<re.Match object; span=(40, 41), match='o'>\n",
      "<re.Match object; span=(41, 42), match='m'>\n",
      "<re.Match object; span=(43, 44), match='k'>\n",
      "<re.Match object; span=(44, 45), match='a'>\n",
      "<re.Match object; span=(45, 46), match='r'>\n",
      "<re.Match object; span=(46, 47), match='i'>\n",
      "<re.Match object; span=(47, 48), match='e'>\n",
      "<re.Match object; span=(48, 49), match='m'>\n",
      "<re.Match object; span=(49, 50), match=' '>\n",
      "<re.Match object; span=(50, 51), match='s'>\n",
      "<re.Match object; span=(51, 52), match='a'>\n",
      "<re.Match object; span=(52, 53), match='y'>\n",
      "<re.Match object; span=(53, 54), match='e'>\n",
      "<re.Match object; span=(54, 55), match='d'>\n",
      "<re.Match object; span=(55, 56), match=' '>\n",
      "<re.Match object; span=(56, 57), match='0'>\n",
      "<re.Match object; span=(57, 58), match='1'>\n",
      "<re.Match object; span=(58, 59), match='2'>\n",
      "<re.Match object; span=(59, 60), match='5'>\n",
      "<re.Match object; span=(60, 61), match='6'>\n",
      "<re.Match object; span=(61, 62), match='4'>\n",
      "<re.Match object; span=(62, 63), match='7'>\n",
      "<re.Match object; span=(63, 64), match='8'>\n",
      "<re.Match object; span=(64, 65), match='9'>\n",
      "<re.Match object; span=(65, 66), match='3'>\n",
      "<re.Match object; span=(66, 67), match='5'>\n",
      "<re.Match object; span=(67, 68), match=' '>\n",
      "<re.Match object; span=(68, 69), match='k'>\n",
      "<re.Match object; span=(69, 70), match='e'>\n",
      "<re.Match object; span=(70, 71), match='m'>\n",
      "<re.Match object; span=(71, 72), match='o'>\n",
      "<re.Match object; span=(72, 73), match='@'>\n",
      "<re.Match object; span=(73, 74), match='e'>\n",
      "<re.Match object; span=(74, 75), match='g'>\n",
      "<re.Match object; span=(75, 76), match='y'>\n",
      "<re.Match object; span=(76, 77), match='.'>\n",
      "<re.Match object; span=(77, 78), match='c'>\n",
      "<re.Match object; span=(78, 79), match='o'>\n",
      "<re.Match object; span=(79, 80), match='m'>\n",
      "<re.Match object; span=(81, 82), match='m'>\n",
      "<re.Match object; span=(82, 83), match='a'>\n",
      "<re.Match object; span=(83, 84), match='z'>\n",
      "<re.Match object; span=(84, 85), match='e'>\n",
      "<re.Match object; span=(85, 86), match='n'>\n",
      "<re.Match object; span=(86, 87), match=' '>\n",
      "<re.Match object; span=(87, 88), match='m'>\n",
      "<re.Match object; span=(88, 89), match='a'>\n",
      "<re.Match object; span=(89, 90), match='z'>\n",
      "<re.Match object; span=(90, 91), match='e'>\n",
      "<re.Match object; span=(91, 92), match='n'>\n",
      "<re.Match object; span=(92, 93), match=' '>\n",
      "<re.Match object; span=(93, 94), match='0'>\n",
      "<re.Match object; span=(94, 95), match='1'>\n",
      "<re.Match object; span=(95, 96), match='5'>\n",
      "<re.Match object; span=(96, 97), match='3'>\n",
      "<re.Match object; span=(97, 98), match='4'>\n",
      "<re.Match object; span=(98, 99), match='5'>\n",
      "<re.Match object; span=(99, 100), match='8'>\n",
      "<re.Match object; span=(100, 101), match='4'>\n",
      "<re.Match object; span=(101, 102), match='6'>\n",
      "<re.Match object; span=(102, 103), match='9'>\n",
      "<re.Match object; span=(103, 104), match='7'>\n",
      "<re.Match object; span=(104, 105), match=' '>\n",
      "<re.Match object; span=(105, 106), match='m'>\n",
      "<re.Match object; span=(106, 107), match='a'>\n",
      "<re.Match object; span=(107, 108), match='z'>\n",
      "<re.Match object; span=(108, 109), match='e'>\n",
      "<re.Match object; span=(109, 110), match='n'>\n",
      "<re.Match object; span=(110, 111), match='@'>\n",
      "<re.Match object; span=(111, 112), match='g'>\n",
      "<re.Match object; span=(112, 113), match='m'>\n",
      "<re.Match object; span=(113, 114), match='a'>\n",
      "<re.Match object; span=(114, 115), match='i'>\n",
      "<re.Match object; span=(115, 116), match='l'>\n",
      "<re.Match object; span=(116, 117), match='.'>\n",
      "<re.Match object; span=(117, 118), match='c'>\n",
      "<re.Match object; span=(118, 119), match='o'>\n",
      "<re.Match object; span=(119, 120), match='m'>\n",
      "<re.Match object; span=(121, 122), match='a'>\n",
      "<re.Match object; span=(122, 123), match='h'>\n",
      "<re.Match object; span=(123, 124), match='m'>\n",
      "<re.Match object; span=(124, 125), match='e'>\n",
      "<re.Match object; span=(125, 126), match='d'>\n",
      "<re.Match object; span=(126, 127), match=' '>\n",
      "<re.Match object; span=(127, 128), match='a'>\n",
      "<re.Match object; span=(128, 129), match='l'>\n",
      "<re.Match object; span=(129, 130), match='i'>\n",
      "<re.Match object; span=(130, 131), match=' '>\n",
      "<re.Match object; span=(131, 132), match='0'>\n",
      "<re.Match object; span=(132, 133), match='1'>\n",
      "<re.Match object; span=(133, 134), match='0'>\n",
      "<re.Match object; span=(134, 135), match='4'>\n",
      "<re.Match object; span=(135, 136), match='2'>\n",
      "<re.Match object; span=(136, 137), match='3'>\n",
      "<re.Match object; span=(137, 138), match='6'>\n",
      "<re.Match object; span=(138, 139), match='7'>\n",
      "<re.Match object; span=(139, 140), match='9'>\n",
      "<re.Match object; span=(140, 141), match='4'>\n",
      "<re.Match object; span=(141, 142), match='5'>\n",
      "<re.Match object; span=(142, 143), match=' '>\n",
      "<re.Match object; span=(143, 144), match='a'>\n",
      "<re.Match object; span=(144, 145), match='h'>\n",
      "<re.Match object; span=(145, 146), match='m'>\n",
      "<re.Match object; span=(146, 147), match='e'>\n",
      "<re.Match object; span=(147, 148), match='d'>\n",
      "<re.Match object; span=(148, 149), match='a'>\n",
      "<re.Match object; span=(149, 150), match='l'>\n",
      "<re.Match object; span=(150, 151), match='i'>\n",
      "<re.Match object; span=(151, 152), match='2'>\n",
      "<re.Match object; span=(152, 153), match='2'>\n",
      "<re.Match object; span=(153, 154), match='@'>\n",
      "<re.Match object; span=(154, 155), match='y'>\n",
      "<re.Match object; span=(155, 156), match='a'>\n",
      "<re.Match object; span=(156, 157), match='h'>\n",
      "<re.Match object; span=(157, 158), match='o'>\n",
      "<re.Match object; span=(158, 159), match='o'>\n",
      "<re.Match object; span=(159, 160), match='.'>\n",
      "<re.Match object; span=(160, 161), match='c'>\n",
      "<re.Match object; span=(161, 162), match='o'>\n",
      "<re.Match object; span=(162, 163), match='m'>\n",
      "<re.Match object; span=(164, 165), match='y'>\n",
      "<re.Match object; span=(165, 166), match='o'>\n",
      "<re.Match object; span=(166, 167), match='u'>\n",
      "<re.Match object; span=(167, 168), match='s'>\n",
      "<re.Match object; span=(168, 169), match='e'>\n",
      "<re.Match object; span=(169, 170), match='i'>\n",
      "<re.Match object; span=(170, 171), match='f'>\n",
      "<re.Match object; span=(171, 172), match=' '>\n",
      "<re.Match object; span=(172, 173), match='a'>\n",
      "<re.Match object; span=(173, 174), match='h'>\n",
      "<re.Match object; span=(174, 175), match='m'>\n",
      "<re.Match object; span=(175, 176), match='e'>\n",
      "<re.Match object; span=(176, 177), match='d'>\n",
      "<re.Match object; span=(177, 178), match=' '>\n",
      "<re.Match object; span=(178, 179), match='0'>\n",
      "<re.Match object; span=(179, 180), match='1'>\n",
      "<re.Match object; span=(180, 181), match='1'>\n",
      "<re.Match object; span=(181, 182), match='1'>\n",
      "<re.Match object; span=(182, 183), match='4'>\n",
      "<re.Match object; span=(183, 184), match='2'>\n",
      "<re.Match object; span=(184, 185), match='3'>\n",
      "<re.Match object; span=(185, 186), match='6'>\n",
      "<re.Match object; span=(186, 187), match='9'>\n",
      "<re.Match object; span=(187, 188), match='8'>\n",
      "<re.Match object; span=(188, 189), match='8'>\n",
      "<re.Match object; span=(189, 190), match=' '>\n",
      "<re.Match object; span=(190, 191), match='j'>\n",
      "<re.Match object; span=(191, 192), match='o'>\n",
      "<re.Match object; span=(192, 193), match='2'>\n",
      "<re.Match object; span=(193, 194), match='2'>\n",
      "<re.Match object; span=(194, 195), match='@'>\n",
      "<re.Match object; span=(195, 196), match='e'>\n",
      "<re.Match object; span=(196, 197), match='g'>\n",
      "<re.Match object; span=(197, 198), match='y'>\n",
      "<re.Match object; span=(198, 199), match='.'>\n",
      "<re.Match object; span=(199, 200), match='c'>\n",
      "<re.Match object; span=(200, 201), match='o'>\n",
      "<re.Match object; span=(201, 202), match='m'>\n",
      "<re.Match object; span=(203, 204), match='a'>\n",
      "<re.Match object; span=(204, 205), match='l'>\n",
      "<re.Match object; span=(205, 206), match='i'>\n",
      "<re.Match object; span=(206, 207), match=' '>\n",
      "<re.Match object; span=(207, 208), match='a'>\n",
      "<re.Match object; span=(208, 209), match='l'>\n",
      "<re.Match object; span=(209, 210), match='i'>\n",
      "<re.Match object; span=(210, 211), match=' '>\n",
      "<re.Match object; span=(211, 212), match='0'>\n",
      "<re.Match object; span=(212, 213), match='1'>\n",
      "<re.Match object; span=(213, 214), match='2'>\n",
      "<re.Match object; span=(214, 215), match='5'>\n",
      "<re.Match object; span=(215, 216), match='4'>\n",
      "<re.Match object; span=(216, 217), match='3'>\n",
      "<re.Match object; span=(217, 218), match='6'>\n",
      "<re.Match object; span=(218, 219), match='6'>\n",
      "<re.Match object; span=(219, 220), match='9'>\n",
      "<re.Match object; span=(220, 221), match='8'>\n",
      "<re.Match object; span=(221, 222), match='9'>\n",
      "<re.Match object; span=(222, 223), match=' '>\n",
      "<re.Match object; span=(223, 224), match='a'>\n",
      "<re.Match object; span=(224, 225), match='l'>\n",
      "<re.Match object; span=(225, 226), match='i'>\n",
      "<re.Match object; span=(226, 227), match='.'>\n",
      "<re.Match object; span=(227, 228), match='a'>\n",
      "<re.Match object; span=(228, 229), match='l'>\n",
      "<re.Match object; span=(229, 230), match='i'>\n",
      "<re.Match object; span=(230, 231), match='@'>\n",
      "<re.Match object; span=(231, 232), match='g'>\n",
      "<re.Match object; span=(232, 233), match='m'>\n",
      "<re.Match object; span=(233, 234), match='a'>\n",
      "<re.Match object; span=(234, 235), match='i'>\n",
      "<re.Match object; span=(235, 236), match='l'>\n",
      "<re.Match object; span=(236, 237), match='.'>\n",
      "<re.Match object; span=(237, 238), match='c'>\n",
      "<re.Match object; span=(238, 239), match='o'>\n",
      "<re.Match object; span=(239, 240), match='m'>\n",
      "<re.Match object; span=(241, 242), match='s'>\n",
      "<re.Match object; span=(242, 243), match='y'>\n",
      "<re.Match object; span=(243, 244), match='a'>\n",
      "<re.Match object; span=(244, 245), match='e'>\n",
      "<re.Match object; span=(245, 246), match='d'>\n",
      "<re.Match object; span=(246, 247), match=' '>\n",
      "<re.Match object; span=(247, 248), match='e'>\n",
      "<re.Match object; span=(248, 249), match='s'>\n",
      "<re.Match object; span=(249, 250), match='s'>\n",
      "<re.Match object; span=(250, 251), match='a'>\n",
      "<re.Match object; span=(251, 252), match='m'>\n",
      "<re.Match object; span=(252, 253), match=' '>\n",
      "<re.Match object; span=(253, 254), match='0'>\n",
      "<re.Match object; span=(254, 255), match='1'>\n",
      "<re.Match object; span=(255, 256), match='2'>\n",
      "<re.Match object; span=(256, 257), match='4'>\n",
      "<re.Match object; span=(257, 258), match='5'>\n",
      "<re.Match object; span=(258, 259), match='8'>\n",
      "<re.Match object; span=(259, 260), match='4'>\n",
      "<re.Match object; span=(260, 261), match='9'>\n",
      "<re.Match object; span=(261, 262), match='6'>\n",
      "<re.Match object; span=(262, 263), match='3'>\n",
      "<re.Match object; span=(263, 264), match='2'>\n",
      "<re.Match object; span=(264, 265), match=' '>\n",
      "<re.Match object; span=(265, 266), match='s'>\n",
      "<re.Match object; span=(266, 267), match='a'>\n",
      "<re.Match object; span=(267, 268), match='y'>\n",
      "<re.Match object; span=(268, 269), match='e'>\n",
      "<re.Match object; span=(269, 270), match='d'>\n",
      "<re.Match object; span=(270, 271), match='e'>\n",
      "<re.Match object; span=(271, 272), match='s'>\n",
      "<re.Match object; span=(272, 273), match='s'>\n",
      "<re.Match object; span=(273, 274), match='a'>\n",
      "<re.Match object; span=(274, 275), match='m'>\n",
      "<re.Match object; span=(275, 276), match='@'>\n",
      "<re.Match object; span=(276, 277), match='g'>\n",
      "<re.Match object; span=(277, 278), match='m'>\n",
      "<re.Match object; span=(278, 279), match='a'>\n",
      "<re.Match object; span=(279, 280), match='l'>\n",
      "<re.Match object; span=(280, 281), match='i'>\n",
      "<re.Match object; span=(281, 282), match='.'>\n",
      "<re.Match object; span=(282, 283), match='c'>\n",
      "<re.Match object; span=(283, 284), match='o'>\n",
      "<re.Match object; span=(284, 285), match='m'>\n",
      "<re.Match object; span=(286, 287), match='m'>\n",
      "<re.Match object; span=(287, 288), match='o'>\n",
      "<re.Match object; span=(288, 289), match='h'>\n",
      "<re.Match object; span=(289, 290), match='a'>\n",
      "<re.Match object; span=(290, 291), match='n'>\n",
      "<re.Match object; span=(291, 292), match='e'>\n",
      "<re.Match object; span=(292, 293), match='d'>\n",
      "<re.Match object; span=(293, 294), match=' '>\n",
      "<re.Match object; span=(294, 295), match='a'>\n",
      "<re.Match object; span=(295, 296), match='h'>\n",
      "<re.Match object; span=(296, 297), match='m'>\n",
      "<re.Match object; span=(297, 298), match='e'>\n",
      "<re.Match object; span=(298, 299), match='d'>\n",
      "<re.Match object; span=(299, 300), match=' '>\n",
      "<re.Match object; span=(300, 301), match='0'>\n",
      "<re.Match object; span=(301, 302), match='1'>\n",
      "<re.Match object; span=(302, 303), match='1'>\n",
      "<re.Match object; span=(303, 304), match='1'>\n",
      "<re.Match object; span=(304, 305), match='2'>\n",
      "<re.Match object; span=(305, 306), match='4'>\n",
      "<re.Match object; span=(306, 307), match='3'>\n",
      "<re.Match object; span=(307, 308), match='5'>\n",
      "<re.Match object; span=(308, 309), match='6'>\n",
      "<re.Match object; span=(309, 310), match='9'>\n",
      "<re.Match object; span=(310, 311), match='6'>\n",
      "<re.Match object; span=(311, 312), match=' '>\n",
      "<re.Match object; span=(312, 313), match='m'>\n",
      "<re.Match object; span=(313, 314), match='o'>\n",
      "<re.Match object; span=(314, 315), match='h'>\n",
      "<re.Match object; span=(315, 316), match='a'>\n",
      "<re.Match object; span=(316, 317), match='m'>\n",
      "<re.Match object; span=(317, 318), match='e'>\n",
      "<re.Match object; span=(318, 319), match='d'>\n",
      "<re.Match object; span=(319, 320), match='@'>\n",
      "<re.Match object; span=(320, 321), match='y'>\n",
      "<re.Match object; span=(321, 322), match='a'>\n",
      "<re.Match object; span=(322, 323), match='h'>\n",
      "<re.Match object; span=(323, 324), match='o'>\n",
      "<re.Match object; span=(324, 325), match='o'>\n",
      "<re.Match object; span=(325, 326), match='.'>\n",
      "<re.Match object; span=(326, 327), match='c'>\n",
      "<re.Match object; span=(327, 328), match='o'>\n",
      "<re.Match object; span=(328, 329), match='m'>\n",
      "<re.Match object; span=(330, 331), match='k'>\n",
      "<re.Match object; span=(331, 332), match='h'>\n",
      "<re.Match object; span=(332, 333), match='a'>\n",
      "<re.Match object; span=(333, 334), match='l'>\n",
      "<re.Match object; span=(334, 335), match='e'>\n",
      "<re.Match object; span=(335, 336), match='d'>\n",
      "<re.Match object; span=(336, 337), match=' '>\n",
      "<re.Match object; span=(337, 338), match='m'>\n",
      "<re.Match object; span=(338, 339), match='o'>\n",
      "<re.Match object; span=(339, 340), match='h'>\n",
      "<re.Match object; span=(340, 341), match='a'>\n",
      "<re.Match object; span=(341, 342), match='m'>\n",
      "<re.Match object; span=(342, 343), match='e'>\n",
      "<re.Match object; span=(343, 344), match='d'>\n",
      "<re.Match object; span=(344, 345), match=' '>\n",
      "<re.Match object; span=(345, 346), match='0'>\n",
      "<re.Match object; span=(346, 347), match='1'>\n",
      "<re.Match object; span=(347, 348), match='2'>\n",
      "<re.Match object; span=(348, 349), match='5'>\n",
      "<re.Match object; span=(349, 350), match='2'>\n",
      "<re.Match object; span=(350, 351), match='5'>\n",
      "<re.Match object; span=(351, 352), match='3'>\n",
      "<re.Match object; span=(352, 353), match='6'>\n",
      "<re.Match object; span=(353, 354), match='1'>\n",
      "<re.Match object; span=(354, 355), match='2'>\n",
      "<re.Match object; span=(355, 356), match='2'>\n",
      "<re.Match object; span=(356, 357), match=' '>\n",
      "<re.Match object; span=(357, 358), match='k'>\n",
      "<re.Match object; span=(358, 359), match='h'>\n",
      "<re.Match object; span=(359, 360), match='a'>\n",
      "<re.Match object; span=(360, 361), match='l'>\n",
      "<re.Match object; span=(361, 362), match='e'>\n",
      "<re.Match object; span=(362, 363), match='d'>\n",
      "<re.Match object; span=(363, 364), match='@'>\n",
      "<re.Match object; span=(364, 365), match='e'>\n",
      "<re.Match object; span=(365, 366), match='g'>\n",
      "<re.Match object; span=(366, 367), match='y'>\n",
      "<re.Match object; span=(367, 368), match='.'>\n",
      "<re.Match object; span=(368, 369), match='e'>\n",
      "<re.Match object; span=(369, 370), match='d'>\n",
      "<re.Match object; span=(370, 371), match='u'>\n"
     ]
    }
   ],
   "source": [
    "pattern = re.compile('.')\n",
    "matches = pattern.finditer(data)\n",
    "for match in matches:\n",
    "    print(match)"
   ]
  },
  {
   "cell_type": "code",
   "execution_count": 6,
   "id": "bc86399d",
   "metadata": {
    "ExecuteTime": {
     "end_time": "2023-08-24T17:30:59.742420Z",
     "start_time": "2023-08-24T17:30:59.726357Z"
    }
   },
   "outputs": [
    {
     "data": {
      "text/plain": [
       "'mohamed mahmoud 01125339461 momo@gmail.com\\nkariem sayed 01256478935 kemo@egy.com\\nmazen mazen 01534584697 mazen@gmail.com\\nahmed ali 01042367945 ahmedali22@yahoo.com\\nyouseif ahmed 01114236988 jo22@egy.com\\nali ali 01254366989 ali.ali@gmail.com\\nsyaed essam 01245849632 sayedessam@gmali.com\\nmohaned ahmed 01112435696 mohamed@yahoo.com\\nkhaled mohamed 01252536122 khaled@egy.edu\\n\\n'"
      ]
     },
     "execution_count": 6,
     "metadata": {},
     "output_type": "execute_result"
    }
   ],
   "source": [
    "data"
   ]
  },
  {
   "cell_type": "code",
   "execution_count": 7,
   "id": "2e169faa",
   "metadata": {
    "ExecuteTime": {
     "end_time": "2023-08-24T17:30:59.758531Z",
     "start_time": "2023-08-24T17:30:59.742420Z"
    }
   },
   "outputs": [],
   "source": [
    "names=[]\n",
    "phonenumbers=[]\n",
    "emails=[]"
   ]
  },
  {
   "cell_type": "code",
   "execution_count": 8,
   "id": "7c9ee8ff",
   "metadata": {
    "ExecuteTime": {
     "end_time": "2023-08-24T17:30:59.774444Z",
     "start_time": "2023-08-24T17:30:59.758531Z"
    }
   },
   "outputs": [],
   "source": [
    "#pattern = re.compile(r\"[A-Za-z]+\\s[A-Za-z]+\")\n",
    "#matches = pattern.finditer(data)\n",
    "#for match in matches:\n",
    " #   start=match.span()[0]\n",
    "  #  end=match.span()[1]\n",
    "   # if data[start:end] in names:\n",
    "    #    continue\n",
    "   # else:\n",
    "     #   names.append(data[start:end])\n",
    "    \n",
    "    \n"
   ]
  },
  {
   "cell_type": "code",
   "execution_count": 9,
   "id": "146549ae",
   "metadata": {
    "ExecuteTime": {
     "end_time": "2023-08-24T17:30:59.790097Z",
     "start_time": "2023-08-24T17:30:59.774444Z"
    }
   },
   "outputs": [],
   "source": [
    "lines = data.strip().split('\\n')\n",
    "name_list = []\n",
    "\n",
    "for line in lines:\n",
    "    match = re.match(r\"(\\w+)\\s+(\\w+)\", line)\n",
    "    if match:\n",
    "        first_name = match.group(1)\n",
    "        last_name = match.group(2)\n",
    "        full_name = f\"{first_name} {last_name}\"\n",
    "        name_list.append(full_name)"
   ]
  },
  {
   "cell_type": "code",
   "execution_count": 10,
   "id": "cecb3f7a",
   "metadata": {
    "ExecuteTime": {
     "end_time": "2023-08-24T17:30:59.805858Z",
     "start_time": "2023-08-24T17:30:59.790097Z"
    },
    "scrolled": true
   },
   "outputs": [
    {
     "data": {
      "text/plain": [
       "['mohamed mahmoud',\n",
       " 'kariem sayed',\n",
       " 'mazen mazen',\n",
       " 'ahmed ali',\n",
       " 'youseif ahmed',\n",
       " 'ali ali',\n",
       " 'syaed essam',\n",
       " 'mohaned ahmed',\n",
       " 'khaled mohamed']"
      ]
     },
     "execution_count": 10,
     "metadata": {},
     "output_type": "execute_result"
    }
   ],
   "source": [
    "name_list"
   ]
  },
  {
   "cell_type": "code",
   "execution_count": 11,
   "id": "f22fe605",
   "metadata": {
    "ExecuteTime": {
     "end_time": "2023-08-24T17:30:59.821912Z",
     "start_time": "2023-08-24T17:30:59.805858Z"
    }
   },
   "outputs": [],
   "source": [
    "pattern = re.compile('01\\d+')\n",
    "matches = pattern.finditer(data)\n",
    "for match in matches:\n",
    "    start=match.span()[0]\n",
    "    end=match.span()[1]\n",
    "    if data[start:end] in phonenumbers:\n",
    "        continue\n",
    "    else:\n",
    "        phonenumbers.append(data[start:end])"
   ]
  },
  {
   "cell_type": "code",
   "execution_count": 12,
   "id": "efb93f71",
   "metadata": {
    "ExecuteTime": {
     "end_time": "2023-08-24T17:30:59.837889Z",
     "start_time": "2023-08-24T17:30:59.821912Z"
    }
   },
   "outputs": [
    {
     "data": {
      "text/plain": [
       "['01125339461',\n",
       " '01256478935',\n",
       " '01534584697',\n",
       " '01042367945',\n",
       " '01114236988',\n",
       " '01254366989',\n",
       " '01245849632',\n",
       " '01112435696',\n",
       " '01252536122']"
      ]
     },
     "execution_count": 12,
     "metadata": {},
     "output_type": "execute_result"
    }
   ],
   "source": [
    "phonenumbers"
   ]
  },
  {
   "cell_type": "code",
   "execution_count": 13,
   "id": "3967439a",
   "metadata": {
    "ExecuteTime": {
     "end_time": "2023-08-24T17:30:59.853529Z",
     "start_time": "2023-08-24T17:30:59.837889Z"
    }
   },
   "outputs": [],
   "source": [
    "pattern = re.compile('[a-zA-Z0-9]+\\.?[a-zA-Z0-9]+?@[a-zA-Z]+\\.(com|edu|net)')\n",
    "matches = pattern.finditer(data)\n",
    "for match in matches:\n",
    "    start=match.span()[0]\n",
    "    end=match.span()[1]\n",
    "    if data[start:end] in emails:\n",
    "        continue\n",
    "    else:\n",
    "        emails.append(data[start:end])"
   ]
  },
  {
   "cell_type": "code",
   "execution_count": 14,
   "id": "224c1a0a",
   "metadata": {
    "ExecuteTime": {
     "end_time": "2023-08-24T17:30:59.869542Z",
     "start_time": "2023-08-24T17:30:59.853529Z"
    }
   },
   "outputs": [
    {
     "data": {
      "text/plain": [
       "['momo@gmail.com',\n",
       " 'kemo@egy.com',\n",
       " 'mazen@gmail.com',\n",
       " 'ahmedali22@yahoo.com',\n",
       " 'jo22@egy.com',\n",
       " 'ali.ali@gmail.com',\n",
       " 'sayedessam@gmali.com',\n",
       " 'mohamed@yahoo.com',\n",
       " 'khaled@egy.edu']"
      ]
     },
     "execution_count": 14,
     "metadata": {},
     "output_type": "execute_result"
    }
   ],
   "source": [
    "emails"
   ]
  },
  {
   "cell_type": "code",
   "execution_count": null,
   "id": "505d9db9",
   "metadata": {},
   "outputs": [],
   "source": []
  }
 ],
 "metadata": {
  "kernelspec": {
   "display_name": "Python 3",
   "language": "python",
   "name": "python3"
  },
  "language_info": {
   "codemirror_mode": {
    "name": "ipython",
    "version": 3
   },
   "file_extension": ".py",
   "mimetype": "text/x-python",
   "name": "python",
   "nbconvert_exporter": "python",
   "pygments_lexer": "ipython3",
   "version": "3.8.8"
  }
 },
 "nbformat": 4,
 "nbformat_minor": 5
}
